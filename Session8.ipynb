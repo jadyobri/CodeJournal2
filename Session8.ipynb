{
 "cells": [
  {
   "cell_type": "markdown",
   "metadata": {},
   "source": [
    "**Range of 100 value from 0 to 1**"
   ]
  },
  {
   "cell_type": "code",
   "execution_count": 10,
   "metadata": {},
   "outputs": [],
   "source": [
    "#import mathplotlib.pyplot as plt for ploting later\n",
    "#reused code from Session 7\n",
    "import matplotlib.pyplot as plt\n",
    "\n",
    "#numpy for linspace\n",
    "import numpy as np\n",
    "%matplotlib inline\n",
    "\n",
    "#ranger function takes linspace from 0.0 to 1.0 with 100 values and returns it\n",
    "def ranger():\n",
    "    x = np.linspace(0.0,1.0,num = 100)\n",
    "    return x"
   ]
  },
  {
   "cell_type": "markdown",
   "metadata": {},
   "source": [
    "**Sin(x) function**"
   ]
  },
  {
   "cell_type": "code",
   "execution_count": 11,
   "metadata": {},
   "outputs": [],
   "source": [
    "#used a function that takes in x\n",
    "#This function does the Taylor Series to find the sin of x\n",
    "#reused from Session 6\n",
    "\n",
    "def sined(x):\n",
    "#I have 10^-8 as the place to stop for what to add to it\n",
    "    number =10**-8\n",
    "\n",
    "#variables here used for keeping values in track.\n",
    "#answer is for what is returned\n",
    "#added is for what will be added or subtracted from it\n",
    "#factor keeps track if you add or subtract here\n",
    "#nube is the factorial number\n",
    "#k is the number we are on for Taylor Series\n",
    "    answer = 0.0\n",
    "    added = 1.0\n",
    "    factor = 1\n",
    "    nube = 1\n",
    "    k = 0\n",
    "\n",
    "#while loop loop until the absolute value of the number added or subtracted is less than 10^-8\n",
    "    while(added > number):\n",
    "            #used as a fail safe for zero because we do not want 0 divided by the whole thing\n",
    "            if(k == 0):\n",
    "                answer = x\n",
    "            \n",
    "            #for all other cases\n",
    "            else:      \n",
    "            #nube is multiplied by (2*k+1) and (2*k)\n",
    "            #done because Taylor series has odd number version for factorial on each entry, so you need the odd and even number multiplied\n",
    "                nube = nube * (2*k + 1) * (2*k)\n",
    "            #we make number to add or subtract for the Taylor Series\n",
    "                added = ((x**(2*k+1)))/nube\n",
    "            \n",
    "            #answer is either minus or plus, order alternates, but to keep on track, factor is alternating and multiplied by the added number\n",
    "                answer += factor*added\n",
    "            #factor alternates, k is increased by 1\n",
    "            factor *= -1\n",
    "            k+=1\n",
    "    #returns the answer\n",
    "    return answer\n"
   ]
  },
  {
   "cell_type": "markdown",
   "metadata": {},
   "source": [
    "**Cos(x) Function**"
   ]
  },
  {
   "cell_type": "code",
   "execution_count": 12,
   "metadata": {},
   "outputs": [],
   "source": [
    "#function for cos(x)\n",
    "#function just is (1-sin(x)**2)**.5\n",
    "#however we add a check for the range since **.5 gives us the absolute value every time\n",
    "#First we change x to be less than 2*pi to make sure the range can be checked\n",
    "#Then we figure out if x scaled down is both less than pi/2 and greater than 3pi/2\n",
    "#If so, we change the sign of what we return to be negative instead of positive by multiplying it by -1\n",
    "#Afterwards, we return it\n",
    "from sympy import pi\n",
    "def cosined(x):\n",
    "    y = (1-sined(x)**2)**.5\n",
    "    z = x\n",
    "    while(z > 2*pi):\n",
    "        z -=(2*pi)\n",
    "    if(z > pi/2 and z < (3*pi)/2):\n",
    "        y *=-1\n",
    "    return y"
   ]
  },
  {
   "cell_type": "markdown",
   "metadata": {},
   "source": [
    "**Multi-Panel Graph**"
   ]
  },
  {
   "cell_type": "code",
   "execution_count": 14,
   "metadata": {},
   "outputs": [
    {
     "data": {
      "image/png": "[encoded data removed]",
      "text/plain": [
       "<Figure size 640x480 with 2 Axes>"
      ]
     },
     "metadata": {},
     "output_type": "display_data"
    }
   ],
   "source": [
    "#from multipanel-plots.pdf code\n",
    "#creates two subplots, 1 row 2 columns\n",
    "figure,axes = plt.subplots(1,2)\n",
    "\n",
    "#x stores the 1000 values between 0.0 and 1.0\n",
    "#y is for the sin for those values\n",
    "#z is for the cos for those values\n",
    "x = ranger()\n",
    "y = []\n",
    "z = []\n",
    "\n",
    "#for loop to append sin of each x value to y and the cos of each x value to z\n",
    "for i in x:\n",
    "    y.append(sined(i))\n",
    "    z.append(cosined(i))\n",
    "\n",
    "#plots x vs sin(x) on left side\n",
    "#sets labels x to 'x' and y to 'sin(x)' with a title of sin(x)\n",
    "axes[0].plot(x,y)\n",
    "axes[0].set_xlabel('x')\n",
    "axes[0].set_ylabel('sin(x)')\n",
    "axes[0].set_title(r'$\\sin(x)$')\n",
    "\n",
    "\n",
    "#plots x vs cos(x) on right side\n",
    "#sets labels x to 'x' and y to 'cos(x)' with a title of cos(x)\n",
    "axes[1].plot(x,z)\n",
    "axes[1].set_xlabel('x')\n",
    "axes[1].set_ylabel('cos(x)')\n",
    "axes[1].set_title(r'$\\cos(x)$')\n",
    "\n",
    "#gives spacing\n",
    "figure.subplots_adjust(wspace=0.4)\n",
    "\n",
    "#changes aspect ratio to where 1 unit of x equaling 1 unit of y on left\n",
    "axes[0].set_aspect('equal')\n",
    "\n",
    "#changes asepct ratio to where 1 unit of y is equal to pi units of x\n",
    "axes[1].set_aspect(np.pi)\n",
    "\n",
    "#shows the multipanel graphs on screen\n",
    "#plt.show()\n",
    "plt.savefig(\"prompt8.pdf\", dpi = 300, bbox_inches=\"tight\")\n",
    "\n",
    "\n"
   ]
  }
 ],
 "metadata": {
  "kernelspec": {
   "display_name": "Python 3",
   "language": "python",
   "name": "python3"
  },
  "language_info": {
   "codemirror_mode": {
    "name": "ipython",
    "version": 3
   },
   "file_extension": ".py",
   "mimetype": "text/x-python",
   "name": "python",
   "nbconvert_exporter": "python",
   "pygments_lexer": "ipython3",
   "version": "3.12.0"
  }
 },
 "nbformat": 4,
 "nbformat_minor": 2
}
